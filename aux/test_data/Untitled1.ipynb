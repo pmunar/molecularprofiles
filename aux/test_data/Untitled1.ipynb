{
 "cells": [
  {
   "cell_type": "code",
   "execution_count": 1,
   "metadata": {
    "collapsed": true
   },
   "outputs": [],
   "source": [
    "from molecularprofiles.molecularprofiles import *\n",
    "from LIDAR_Analysis.humidity import *\n",
    "epoch='all'\n",
    "\n",
    "gdas = MolecularProfile('/home/pmunar/feina/software/pandas_branch/molecularprofiles/molecularprofiles/test_data/gdas_merged_2012-01_2017-08_north.txt',data_server='GDAS', observatory='south')\n",
    "gdas.get_data(epoch=epoch)\n",
    "ecmwf = MolecularProfile('/home/pmunar/feina/software/pandas_branch/molecularprofiles/molecularprofiles/test_data/ecmwf_interim_merged_2012-01_2017-08_north.txt', data_server='ECMWF', observatory='south')\n",
    "ecmwf.get_data(epoch=epoch)\n"
   ]
  },
  {
   "cell_type": "code",
   "execution_count": 17,
   "metadata": {
    "collapsed": true
   },
   "outputs": [],
   "source": [
    "cond = ((ecmwf.dataframe.month == 2) & (ecmwf.dataframe.day < 3)) | ((ecmwf.dataframe.month ==3) & (ecmwf.dataframe.day < 2))"
   ]
  },
  {
   "cell_type": "code",
   "execution_count": 18,
   "metadata": {
    "collapsed": true
   },
   "outputs": [],
   "source": [
    "df = ecmwf.dataframe[cond]"
   ]
  },
  {
   "cell_type": "code",
   "execution_count": 20,
   "metadata": {
    "scrolled": true
   },
   "outputs": [
    {
     "data": {
      "text/plain": [
       "array([20120201, 20120202, 20120301, 20130201, 20130202, 20130301,\n",
       "       20140201, 20140202, 20140301, 20150201, 20150202, 20150301,\n",
       "       20160201, 20160202, 20160301, 20170201, 20170202, 20170301])"
      ]
     },
     "execution_count": 20,
     "metadata": {},
     "output_type": "execute_result"
    }
   ],
   "source": [
    "np.unique(df.Date)"
   ]
  },
  {
   "cell_type": "code",
   "execution_count": null,
   "metadata": {
    "collapsed": true
   },
   "outputs": [],
   "source": []
  }
 ],
 "metadata": {
  "kernelspec": {
   "display_name": "Python 3",
   "language": "python",
   "name": "python3"
  },
  "language_info": {
   "codemirror_mode": {
    "name": "ipython",
    "version": 3
   },
   "file_extension": ".py",
   "mimetype": "text/x-python",
   "name": "python",
   "nbconvert_exporter": "python",
   "pygments_lexer": "ipython3",
   "version": "3.6.3"
  }
 },
 "nbformat": 4,
 "nbformat_minor": 2
}
